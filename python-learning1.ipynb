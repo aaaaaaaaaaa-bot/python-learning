{
 "cells": [
  {
   "cell_type": "markdown",
   "id": "e20e8bdf",
   "metadata": {},
   "source": [
    "# Pythonの復習"
   ]
  },
  {
   "cell_type": "markdown",
   "id": "93b17249",
   "metadata": {},
   "source": [
    "### 1.Helloと表示する"
   ]
  },
  {
   "cell_type": "code",
   "execution_count": 1,
   "id": "54ba2451",
   "metadata": {},
   "outputs": [
    {
     "name": "stdout",
     "output_type": "stream",
     "text": [
      "Hello\n"
     ]
    }
   ],
   "source": [
    "print(\"Hello\")"
   ]
  },
  {
   "cell_type": "markdown",
   "id": "05c16ebb",
   "metadata": {},
   "source": [
    "データ型とは\n",
    "\n",
    "| データ型 | 種類 | 例 |\n",
    "|---|---|---|\n",
    "| `int`型 | 整数 | `-1, 0, 1, 2, 3` |\n",
    "| `float`型 | 浮動小数点数 | `-10.5, 0.0, 3.25` |\n",
    "| `str`型 | 文字列 | `'Hello', 'Python'` |\n",
    "| `bool`型 | 真偽値 | `True, False` |\n",
    "| `list`型 | リスト | `[1, 2.5, 'apple']` |"
   ]
  },
  {
   "cell_type": "markdown",
   "id": "0773f9a7",
   "metadata": {},
   "source": [
    "変数にデータを代入する方法\n",
    "\n",
    "代入演算子=を用いる\n",
    "\n",
    "**代入したい変数 = データ**\n",
    "\n",
    "右のものを左に代入する\n",
    "\n",
    "イコールって意味じゃない"
   ]
  },
  {
   "cell_type": "markdown",
   "id": "a537ede4",
   "metadata": {},
   "source": [
    "### 2.変数a にint 型の数5 を代入し，表示するプログラム"
   ]
  },
  {
   "cell_type": "code",
   "execution_count": 3,
   "id": "c73f8513",
   "metadata": {},
   "outputs": [
    {
     "ename": "SyntaxError",
     "evalue": "invalid syntax (2089309402.py, line 1)",
     "output_type": "error",
     "traceback": [
      "\u001b[0;36m  Cell \u001b[0;32mIn[3], line 1\u001b[0;36m\u001b[0m\n\u001b[0;31m    int a = 5\u001b[0m\n\u001b[0m        ^\u001b[0m\n\u001b[0;31mSyntaxError\u001b[0m\u001b[0;31m:\u001b[0m invalid syntax\n"
     ]
    }
   ],
   "source": [
    "int a = 5\n",
    "print(a)"
   ]
  },
  {
   "cell_type": "markdown",
   "id": "d8286c17",
   "metadata": {},
   "source": [
    "Pythonの型付け\n",
    "\n",
    "Pythonは動的型付け言語です。これは、プログラムを実行している最中に、代入された値から自動的にその変数のデータ型を判断するという意味です。\n",
    "\n",
    "だからintみたいな型の定義はいらない"
   ]
  },
  {
   "cell_type": "code",
   "execution_count": 4,
   "id": "048ec97d",
   "metadata": {},
   "outputs": [
    {
     "name": "stdout",
     "output_type": "stream",
     "text": [
      "5\n"
     ]
    }
   ],
   "source": [
    "a = 5\n",
    "print(a)"
   ]
  },
  {
   "cell_type": "markdown",
   "id": "dc59ef40",
   "metadata": {},
   "source": [
    "**type関数**\n",
    "\n",
    "type()関数は、引数として渡されたオブジェクトのデータ型を返す組み込み関数\n",
    "\n",
    "print(type(知りたい変数の型))\n",
    "\n",
    "と書けばその変数のデータ型を得られる"
   ]
  },
  {
   "cell_type": "markdown",
   "id": "40a9856e",
   "metadata": {},
   "source": [
    "変数a にfloat 型の数5.5 を代入し,type(a) の結果を表示するプログラム"
   ]
  },
  {
   "cell_type": "code",
   "execution_count": null,
   "id": "a18c561a",
   "metadata": {},
   "outputs": [
    {
     "name": "stdout",
     "output_type": "stream",
     "text": [
      "<class 'float'>\n"
     ]
    }
   ],
   "source": [
    "a = 5.5\n",
    "print(type(a))"
   ]
  },
  {
   "cell_type": "markdown",
   "id": "f9115988",
   "metadata": {},
   "source": [
    "**データ型の変換(キャスト)**\n",
    "\n",
    "「ある型の定数・変数」を「別の型」に変更すること\n",
    "\n",
    "異なるデータ型を併用するとエラーとなるため変換を行う\n",
    "\n",
    "変えたいデータ型(変えたい変数)の形で表すとできる\n",
    "\n",
    "ex) int(x)\n",
    "\n",
    "変更できない場合もあり\n",
    "\n",
    "**これはエラーになります**\n",
    "\n",
    "```python\n",
    "x = \"Hello\"\n",
    "y = int(x)\n"
   ]
  },
  {
   "cell_type": "markdown",
   "id": "f2931f4f",
   "metadata": {},
   "source": [
    "### 3.変数a にstr型である’5’ を代入せよ．さらに，データ型をint型に変更し，データ型を確認するプログラム"
   ]
  },
  {
   "cell_type": "code",
   "execution_count": 7,
   "id": "5feab00e",
   "metadata": {},
   "outputs": [
    {
     "name": "stdout",
     "output_type": "stream",
     "text": [
      "<class 'int'>\n"
     ]
    }
   ],
   "source": [
    "a = \"5\"\n",
    "a_int = int(a)\n",
    "print(type(a_int))"
   ]
  },
  {
   "cell_type": "markdown",
   "id": "7f11fc64",
   "metadata": {},
   "source": [
    "### 標準入力とは\n",
    "\n",
    "Pythonにおける標準入力 (stdin) は、プログラムが外部からデータを受け取るためのデフォルトの入力ストリームのことです\n",
    "\n",
    "ex)input() 関数\n",
    "\n",
    "この関数は、ユーザーが入力した文字列を読み取り、それを戻り値として返します\n",
    "\n",
    "使用例\n",
    "```python\n",
    "name = input(\"名前を入力してください: \")\n",
    "print(f\"こんにちは、{name}さん！\")\n",
    "```\n",
    "##### ※常に文字列として読み込まれるため他のデータ型に変更したい場合先ほどの変換(キャスト)を行う必要がある\n",
    "\n",
    "または\n",
    "```python\n",
    "int(input())\n",
    "```\n",
    "のように書き、入力されたものを数値にキャストできる\n",
    "\n",
    "##### ※int型であるため入力されたものが数値じゃない場合エラーになる"
   ]
  },
  {
   "cell_type": "code",
   "execution_count": 11,
   "id": "c2e42f87",
   "metadata": {},
   "outputs": [
    {
     "name": "stdout",
     "output_type": "stream",
     "text": [
      "こんにちは、あさん！\n"
     ]
    }
   ],
   "source": [
    "name = input(\"名前を入力してください: \")\n",
    "print(f\"こんにちは、{name}さん！\")"
   ]
  },
  {
   "cell_type": "code",
   "execution_count": null,
   "id": "348181df",
   "metadata": {},
   "outputs": [],
   "source": []
  }
 ],
 "metadata": {
  "kernelspec": {
   "display_name": "3.12.6",
   "language": "python",
   "name": "python3"
  },
  "language_info": {
   "codemirror_mode": {
    "name": "ipython",
    "version": 3
   },
   "file_extension": ".py",
   "mimetype": "text/x-python",
   "name": "python",
   "nbconvert_exporter": "python",
   "pygments_lexer": "ipython3",
   "version": "3.12.6"
  }
 },
 "nbformat": 4,
 "nbformat_minor": 5
}
